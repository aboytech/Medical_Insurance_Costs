{
 "cells": [
  {
   "cell_type": "markdown",
   "metadata": {},
   "source": [
    "# U.S. Medical Insurance Costs"
   ]
  },
  {
   "cell_type": "markdown",
   "metadata": {},
   "source": [
    "## STEP 1: BREAKING DOWN CSV DATA\n",
    "\n",
    "In this first step, I want to break down data from the csv file. I saw that **insurance.csv** has the following headers _age, sex, bmi, children, smoker, regions and charges_, so the first thing is to create different lists of each one of them in order to push data into those lists."
   ]
  },
  {
   "cell_type": "code",
   "execution_count": 32,
   "metadata": {},
   "outputs": [],
   "source": [
    "import csv\n",
    "\n",
    "age = list()\n",
    "sex = list()\n",
    "bmi = list()\n",
    "children = list()\n",
    "smoker = list()\n",
    "region = list()\n",
    "charges = list()\n",
    "\n",
    "with open('insurance.csv', newline = '') as insurance_csv:\n",
    "  \n",
    "  reader = csv.DictReader(insurance_csv,)\n",
    "\n",
    "  for row in reader:\n",
    "    age.append(row['age'])\n",
    "    sex.append(row['sex'])\n",
    "    bmi.append(row['bmi'])\n",
    "    children.append(row['children'])\n",
    "    smoker.append(row['smoker'])\n",
    "    region.append(row['region'])\n",
    "    charges.append(row['charges'])"
   ]
  },
  {
   "attachments": {},
   "cell_type": "markdown",
   "metadata": {},
   "source": [
    "## STEP 2: GOALS\n",
    "\n",
    "Now that I have data distributed in lists, I want to answer the following questions within my analysis:\n",
    "  \n",
    "  \n",
    "- **What is the average age?**\n",
    "\n",
    "- **Are there more males or females?**\n",
    "\n",
    "- **Which region has the most insurances?**\n",
    "\n",
    "- **What is the avareage cost for non-smoker vs. smokers?**\n",
    "\n",
    "\n",
    "The first goal I'll be working on is **What is the average age?** Whilst I am parsing a csv file, the age list is not returning integers, but strings instead. So I need to get those strings into integers and then make a **function** to calculate the average."
   ]
  },
  {
   "cell_type": "code",
   "execution_count": 40,
   "metadata": {},
   "outputs": [
    {
     "name": "stdout",
     "output_type": "stream",
     "text": [
      "39.0\n"
     ]
    }
   ],
   "source": [
    "age_formated = list()\n",
    "\n",
    "for index in age:\n",
    "  age_formated.append(int(index))\n",
    "\n",
    "def calculate_average_age(ages):\n",
    "  total_ages = 0\n",
    "\n",
    "  for age in ages:\n",
    "    total_ages += age\n",
    "\n",
    "  return round((total_ages / len(ages)), 0)\n",
    "\n",
    "print(calculate_average_age(age_formated))\n"
   ]
  }
 ],
 "metadata": {
  "kernelspec": {
   "display_name": "Python 3 (ipykernel)",
   "language": "python",
   "name": "python3"
  },
  "language_info": {
   "codemirror_mode": {
    "name": "ipython",
    "version": 3
   },
   "file_extension": ".py",
   "mimetype": "text/x-python",
   "name": "python",
   "nbconvert_exporter": "python",
   "pygments_lexer": "ipython3",
   "version": "3.10.6"
  }
 },
 "nbformat": 4,
 "nbformat_minor": 4
}
