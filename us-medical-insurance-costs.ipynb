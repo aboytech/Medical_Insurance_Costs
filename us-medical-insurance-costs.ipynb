{
 "cells": [
  {
   "cell_type": "markdown",
   "metadata": {},
   "source": [
    "# U.S. Medical Insurance Costs"
   ]
  },
  {
   "cell_type": "markdown",
   "metadata": {},
   "source": [
    "## STEP 1: BREAKING DOWN CSV DATA\n",
    "\n",
    "In this first step, I want to break down data from the csv file. I saw that **insurance.csv** has the following headers _age, sex, bmi, children, smoker, regions and charges_, so the first thing is to create different lists of each one of them in order to push data into those lists."
   ]
  },
  {
   "cell_type": "code",
   "execution_count": 2,
   "metadata": {},
   "outputs": [],
   "source": [
    "import csv\n",
    "\n",
    "age = list()\n",
    "sex = list()\n",
    "bmi = list()\n",
    "children = list()\n",
    "smoker = list()\n",
    "region = list()\n",
    "charges = list()\n",
    "\n",
    "with open('insurance.csv', newline = '') as insurance_csv:\n",
    "  \n",
    "  reader = csv.DictReader(insurance_csv,)\n",
    "\n",
    "  for row in reader:\n",
    "    age.append(row['age'])\n",
    "    sex.append(row['sex'])\n",
    "    bmi.append(row['bmi'])\n",
    "    children.append(row['children'])\n",
    "    smoker.append(row['smoker'])\n",
    "    region.append(row['region'])\n",
    "    charges.append(row['charges'])"
   ]
  },
  {
   "attachments": {},
   "cell_type": "markdown",
   "metadata": {},
   "source": [
    "## STEP 2: GOALS\n",
    "\n",
    "Now that I have data distributed in lists, I want to answer the following questions within my analysis:\n",
    "  \n",
    "  \n",
    "- **What is the average age?**\n",
    "\n",
    "- **Are there more males or females?**\n",
    "\n",
    "- **Which region has the most insurances?**\n",
    "\n",
    "- **What is the avareage cost for non-smoker vs. smokers?**\n",
    "\n",
    "### Question #1\n",
    "The first goal I'll be working on is **What is the average age?** Whilst I am parsing a csv file, the age list is not returning integers, but strings instead. So I need to get those strings into integers and then make a **function** to calculate the average."
   ]
  },
  {
   "cell_type": "code",
   "execution_count": 3,
   "metadata": {},
   "outputs": [
    {
     "name": "stdout",
     "output_type": "stream",
     "text": [
      "The average age of individuals in this analysis is 39.0 years old\n"
     ]
    }
   ],
   "source": [
    "age_formated = list()\n",
    "\n",
    "for index in age:\n",
    "  age_formated.append(int(index))\n",
    "\n",
    "def calculate_average_age(ages):\n",
    "  total_ages = 0\n",
    "\n",
    "  for age in ages:\n",
    "    total_ages += age\n",
    "\n",
    "  return round((total_ages / len(ages)), 0)\n",
    "\n",
    "average_age = calculate_average_age(age_formated)\n",
    "print(\"The average age of individuals in this analysis is {average_age} years old\".format(average_age = average_age))\n"
   ]
  },
  {
   "attachments": {},
   "cell_type": "markdown",
   "metadata": {},
   "source": [
    "### Question #2\n",
    "Now that we have the **average age** of the individuals, I want to know how many _males_ and _females_ are in this dataset. In order to achieve that, I need to loop within **sex list**, instantiate a variable to count how many times the word _male_ or _female_ repeats, and compare between each one of them."
   ]
  },
  {
   "cell_type": "code",
   "execution_count": 4,
   "metadata": {},
   "outputs": [
    {
     "name": "stdout",
     "output_type": "stream",
     "text": [
      "There are 676 males and 662 females, giving us a total of 1338. The percentage of males in this dataset is 50.52% vs. a 49.48% of females.\n"
     ]
    }
   ],
   "source": [
    "def counting_males_females(sex_list):\n",
    "  total_males = 0\n",
    "  total_females = 0\n",
    "  not_rated = 0\n",
    "\n",
    "  for sex in sex_list:\n",
    "    if sex == 'male':\n",
    "      total_males += 1\n",
    "    elif sex == 'female':\n",
    "      total_females += 1\n",
    "    else:\n",
    "      not_rated +=1\n",
    "\n",
    "  total_count = total_males + total_females\n",
    "\n",
    "  male_percentage = round(((total_males / total_count) * 100), 2)\n",
    "  female_percentage = round(((total_females / total_count) * 100), 2)\n",
    "\n",
    "  print(\"There are {total_males} males and {total_females} females, giving us a total of {total_count}. The percentage of males in this dataset is {male_percentage}% vs. a {female_percentage}% of females.\".format(total_males = total_males, total_females = total_females, total_count = total_count, male_percentage = male_percentage, female_percentage = female_percentage))\n",
    "  \n",
    "\n",
    "males_females_count = counting_males_females(sex)"
   ]
  },
  {
   "attachments": {},
   "cell_type": "markdown",
   "metadata": {},
   "source": [
    "### Question #3\n",
    "Moving on with the next question **Which region has the most insurances**. We have to understand that we have another _list_ called _region_, which is populated from the regions of the csv. As all of this data are strings, we only need to know how many regions there are and how many times do they repeat."
   ]
  },
  {
   "cell_type": "code",
   "execution_count": 36,
   "metadata": {},
   "outputs": [
    {
     "name": "stdout",
     "output_type": "stream",
     "text": [
      "There are a total of four regions in our analysis, which are Southwest with 325 people, Southeast with 364, Northwest with 325, and Northeast with 324. Given this information, we can say that southeast is the region which has the most insurances with a total count of 364\n"
     ]
    }
   ],
   "source": [
    "def total_regions(regions):\n",
    "  all_regions = list()\n",
    "\n",
    "  for region in regions:\n",
    "    if region not in all_regions:\n",
    "      all_regions.append(region)\n",
    "\n",
    "    southwest = 0\n",
    "    southeast = 0\n",
    "    northwest = 0\n",
    "    northeast = 0\n",
    "\n",
    "  for count in regions:\n",
    "    if count == 'southwest':\n",
    "      southwest += 1\n",
    "    elif count == 'southeast':\n",
    "      southeast += 1\n",
    "    elif count == 'northwest':\n",
    "      northwest += 1\n",
    "    elif count == 'northeast':\n",
    "      northeast += 1\n",
    "    else: \n",
    "      pass\n",
    "\n",
    "  regions_count = {\n",
    "    \"southwest\": southwest,\n",
    "    \"southeast\": southeast,\n",
    "    \"northwest\": northwest,\n",
    "    \"northeast\": northeast\n",
    "  }\n",
    "\n",
    "  max_region_value = ''\n",
    "  max_region_count = 0\n",
    "\n",
    "  for region in regions_count.items():\n",
    "    if region[1] > max_region_count:\n",
    "      max_region_value = region[0]\n",
    "      max_region_count = region[1]\n",
    "    \n",
    "  print(\"There are a total of four regions in our analysis, which are Southwest with {southwest} people, Southeast with {southeast}, Northwest with {northwest}, and Northeast with {northeast}. Given this information, we can say that {max_region_value} is the region which has the most insurances with a total count of {max_region_count}\".format(southwest = southwest, southeast = southeast, northwest = northwest, northeast = northeast, max_region_value = max_region_value, max_region_count = max_region_count))\n",
    "\n",
    "total_regions(region)\n",
    "\n"
   ]
  }
 ],
 "metadata": {
  "kernelspec": {
   "display_name": "Python 3 (ipykernel)",
   "language": "python",
   "name": "python3"
  },
  "language_info": {
   "codemirror_mode": {
    "name": "ipython",
    "version": 3
   },
   "file_extension": ".py",
   "mimetype": "text/x-python",
   "name": "python",
   "nbconvert_exporter": "python",
   "pygments_lexer": "ipython3",
   "version": "3.10.6"
  }
 },
 "nbformat": 4,
 "nbformat_minor": 4
}
