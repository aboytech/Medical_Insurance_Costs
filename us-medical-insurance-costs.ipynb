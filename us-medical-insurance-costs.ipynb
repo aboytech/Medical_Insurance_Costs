{
 "cells": [
  {
   "cell_type": "markdown",
   "metadata": {},
   "source": [
    "# U.S. Medical Insurance Costs"
   ]
  },
  {
   "cell_type": "markdown",
   "metadata": {},
   "source": [
    "## STEP 1: BREAKING DOWN CSV DATA\n",
    "\n",
    "In this first step, I want to break down data from the csv file. I saw that **insurance.csv** has the following headers _age, sex, bmi, children, smoker, regions and charges_, so the first thing is to create different lists of each one of them in order to push data into those lists."
   ]
  },
  {
   "cell_type": "code",
   "execution_count": 55,
   "metadata": {},
   "outputs": [],
   "source": [
    "import csv\n",
    "\n",
    "age = list()\n",
    "sex = list()\n",
    "bmi = list()\n",
    "children = list()\n",
    "smoker = list()\n",
    "region = list()\n",
    "charges = list()\n",
    "\n",
    "insurance_data = dict()\n",
    "\n",
    "with open('insurance.csv', newline = '') as insurance_csv:\n",
    "  \n",
    "  reader = csv.DictReader(insurance_csv,)\n",
    "\n",
    "  for row in reader:\n",
    "    age.append(row['age'])\n",
    "    sex.append(row['sex'])\n",
    "    bmi.append(row['bmi'])\n",
    "    children.append(row['children'])\n",
    "    smoker.append(row['smoker'])\n",
    "    region.append(row['region'])\n",
    "    charges.append(row['charges'])"
   ]
  },
  {
   "attachments": {},
   "cell_type": "markdown",
   "metadata": {},
   "source": [
    "## STEP 2: GOALS\n",
    "\n",
    "Now that I have data distributed in lists, I want to answer the following questions within my analysis:\n",
    "  \n",
    "  \n",
    "- **What is the average age?**\n",
    "\n",
    "- **Are there more males or females?**\n",
    "\n",
    "- **Which region has the most insurances?**\n",
    "\n",
    "- **What is the avareage cost for non-smoker vs. smokers?**\n",
    "\n",
    "### Question #1\n",
    "The first goal I'll be working on is **What is the average age?** Whilst I am parsing a csv file, the age list is not returning integers, but strings instead. So I need to get those strings into integers and then make a **function** to calculate the average."
   ]
  },
  {
   "cell_type": "code",
   "execution_count": 18,
   "metadata": {},
   "outputs": [
    {
     "name": "stdout",
     "output_type": "stream",
     "text": [
      "The average age of individuals in this analysis is 39.0 years old\n"
     ]
    }
   ],
   "source": [
    "age_formated = list()\n",
    "\n",
    "for index in age:\n",
    "  age_formated.append(int(index))\n",
    "\n",
    "def calculate_average_age(ages):\n",
    "  total_ages = 0\n",
    "\n",
    "  for age in ages:\n",
    "    total_ages += age\n",
    "\n",
    "  return round((total_ages / len(ages)), 0)\n",
    "\n",
    "average_age = calculate_average_age(age_formated)\n",
    "print(\"The average age of individuals in this analysis is {average_age} years old\".format(average_age = average_age))\n"
   ]
  },
  {
   "attachments": {},
   "cell_type": "markdown",
   "metadata": {},
   "source": [
    "### Question #2\n",
    "Now that we have the **average age** of the individuals, I want to know how many _males_ and _females_ are in this dataset. In order to achieve that, I need to loop within **sex list**, instantiate a variable to count how many times the word _male_ or _female_ repeats, and compare between each one of them."
   ]
  },
  {
   "cell_type": "code",
   "execution_count": 19,
   "metadata": {},
   "outputs": [
    {
     "name": "stdout",
     "output_type": "stream",
     "text": [
      "There are 676 males and 662 females, giving us a total of 1338. The percentage of males in this dataset is 50.52% vs. a 49.48% of females.\n"
     ]
    }
   ],
   "source": [
    "def counting_males_females(sex_list):\n",
    "  total_males = 0\n",
    "  total_females = 0\n",
    "  not_rated = 0\n",
    "\n",
    "  for sex in sex_list:\n",
    "    if sex == 'male':\n",
    "      total_males += 1\n",
    "    elif sex == 'female':\n",
    "      total_females += 1\n",
    "    else:\n",
    "      not_rated +=1\n",
    "\n",
    "  total_count = total_males + total_females\n",
    "\n",
    "  male_percentage = round(((total_males / total_count) * 100), 2)\n",
    "  female_percentage = round(((total_females / total_count) * 100), 2)\n",
    "\n",
    "  print(\"There are {total_males} males and {total_females} females, giving us a total of {total_count}. The percentage of males in this dataset is {male_percentage}% vs. a {female_percentage}% of females.\".format(total_males = total_males, total_females = total_females, total_count = total_count, male_percentage = male_percentage, female_percentage = female_percentage))\n",
    "  \n",
    "\n",
    "males_females_count = counting_males_females(sex)"
   ]
  },
  {
   "attachments": {},
   "cell_type": "markdown",
   "metadata": {},
   "source": [
    "### Question #3\n",
    "Moving on with the next question **Which region has the most insurances**. We have to understand that we have another _list_ called _region_, which is populated from the regions of the csv. As all of this data are strings, we only need to know how many regions there are and how many times do they repeat."
   ]
  },
  {
   "cell_type": "code",
   "execution_count": 20,
   "metadata": {},
   "outputs": [
    {
     "name": "stdout",
     "output_type": "stream",
     "text": [
      "There are a total of four regions in our analysis, which are southwest with 325 people, southeast with 364, northwest with 325, and northeast with 324. Given this information, we can say that southeast is the region which has the most insurances with a total count of 364\n"
     ]
    }
   ],
   "source": [
    "def total_regions(regions):\n",
    "  all_regions = list()\n",
    "\n",
    "  for region in regions:\n",
    "    if region not in all_regions:\n",
    "      all_regions.append(region)\n",
    "\n",
    "    southwest = 0\n",
    "    southeast = 0\n",
    "    northwest = 0\n",
    "    northeast = 0\n",
    "\n",
    "  for count in regions:\n",
    "    if count == 'southwest':\n",
    "      southwest += 1\n",
    "    elif count == 'southeast':\n",
    "      southeast += 1\n",
    "    elif count == 'northwest':\n",
    "      northwest += 1\n",
    "    elif count == 'northeast':\n",
    "      northeast += 1\n",
    "    else: \n",
    "      pass\n",
    "\n",
    "  regions_count = {\n",
    "    \"southwest\": southwest,\n",
    "    \"southeast\": southeast,\n",
    "    \"northwest\": northwest,\n",
    "    \"northeast\": northeast\n",
    "  }\n",
    "\n",
    "  max_region_value = ''\n",
    "  max_region_count = 0\n",
    "\n",
    "  for region in regions_count.items():\n",
    "    if region[1] > max_region_count:\n",
    "      max_region_value = region[0]\n",
    "      max_region_count = region[1]\n",
    "    \n",
    "  print(\"There are a total of four regions in our analysis, which are southwest with {southwest} people, southeast with {southeast}, northwest with {northwest}, and northeast with {northeast}. Given this information, we can say that {max_region_value} is the region which has the most insurances with a total count of {max_region_count}\".format(southwest = southwest, southeast = southeast, northwest = northwest, northeast = northeast, max_region_value = max_region_value, max_region_count = max_region_count))\n",
    "\n",
    "total_regions(region)\n",
    "\n"
   ]
  },
  {
   "attachments": {},
   "cell_type": "markdown",
   "metadata": {},
   "source": [
    "### Question #4\n",
    "Average cost The next questions I want to answer with my analysis are: **How much is the average insurance cost** and **How does it affect if a person is a _smoker_ or _not_.**\n",
    "\n",
    "I need to follow the next steps:\n",
    "1. With the **charges list**, I need to now what the _average charge_ for an insurance is.\n",
    "2. Create a **dictionary** for all the variables of the dataset.\n",
    "3. Having the total average, including _smokers and non-smokers_, I need to know how many people smoke or not.\n",
    "4. As well as having the total amount of smokers and non-smokers, I have to get their **total average charge**.\n",
    "\n",
    "#### Chekpoint #1: Calculate the **average charge** for all the dataset.\n"
   ]
  },
  {
   "cell_type": "code",
   "execution_count": 52,
   "metadata": {},
   "outputs": [
    {
     "name": "stdout",
     "output_type": "stream",
     "text": [
      "13,270.42\n"
     ]
    }
   ],
   "source": [
    "def average_charge(charges):\n",
    "  total_amount = 0\n",
    "  total_count = 0\n",
    "\n",
    "  for charge in charges:\n",
    "    total_amount += float(charge)\n",
    "    total_count += 1\n",
    "\n",
    "  average_amount = total_amount / total_count\n",
    "  average_amount_formated = \"{:,.2f}\".format(average_amount)\n",
    " \n",
    "  return (average_amount_formated)\n",
    "\n",
    "average_cost = average_charge(charges)\n",
    "print(average_cost)"
   ]
  },
  {
   "attachments": {},
   "cell_type": "markdown",
   "metadata": {},
   "source": [
    "#### Checkpoint #2: Create a **dictionary** to store all the data."
   ]
  },
  {
   "cell_type": "code",
   "execution_count": 68,
   "metadata": {},
   "outputs": [],
   "source": [
    "def create_dictionary(age, sex, bmi, children, smoker, region, charges):\n",
    "  insurance_dict = dict()\n",
    "  num_of_people = len(age)\n",
    "\n",
    "  for index in range(num_of_people):\n",
    "    insurance_dict[index] = {\n",
    "      \"Age\": age[index],\n",
    "      \"Sex\": sex[index],\n",
    "      \"BMI\": bmi[index],\n",
    "      \"Children\": children[index],\n",
    "      \"Smoker\": smoker[index],\n",
    "      \"Region\": region[index],\n",
    "      \"Charges\": charges[index]\n",
    "    }\n",
    "\n",
    "  return insurance_dict\n",
    "\n",
    "insurance_data = create_dictionary(age, sex, bmi, children, smoker, region, charges)\n"
   ]
  },
  {
   "attachments": {},
   "cell_type": "markdown",
   "metadata": {},
   "source": [
    "#### Checkpoint #3: How many **smokers** and **non-smokers** are in this dataset?"
   ]
  },
  {
   "cell_type": "code",
   "execution_count": 67,
   "metadata": {},
   "outputs": [
    {
     "name": "stdout",
     "output_type": "stream",
     "text": [
      "In this dataset, we can tell that there are 274 people that smoke, and 1064 people that do not smoke. With that said, the total percentage of smokers is 20.48% vs. non-smokers percentage of 79.52%.\n"
     ]
    }
   ],
   "source": [
    "def smokers_information(smoker):\n",
    "  total_smokers = 0\n",
    "  total_non_smokers = 0\n",
    "  non_rated = 0\n",
    "\n",
    "  for person in smoker:\n",
    "    if person == 'yes':\n",
    "      total_smokers += 1\n",
    "    elif person == 'no':\n",
    "      total_non_smokers += 1\n",
    "    else:\n",
    "      non_rated += 1\n",
    "\n",
    "  smokers_percentage = round((total_smokers / len(smoker) * 100), 2)\n",
    "  non_smokers_percentage = round((total_non_smokers / len(smoker) * 100), 2)\n",
    "\n",
    "  print(\"In this dataset, we can tell that there are {total_smokers} people that smoke, and {total_non_smokers} people that do not smoke. With that said, the total percentage of smokers is {smokers_percentage}% vs. non-smokers percentage of {non_smokers_percentage}%.\".format(total_smokers = total_smokers, total_non_smokers = total_non_smokers, smokers_percentage = smokers_percentage, non_smokers_percentage = non_smokers_percentage))\n",
    "\n",
    "total_smokers = smokers_information(smoker)"
   ]
  }
 ],
 "metadata": {
  "kernelspec": {
   "display_name": "Python 3 (ipykernel)",
   "language": "python",
   "name": "python3"
  },
  "language_info": {
   "codemirror_mode": {
    "name": "ipython",
    "version": 3
   },
   "file_extension": ".py",
   "mimetype": "text/x-python",
   "name": "python",
   "nbconvert_exporter": "python",
   "pygments_lexer": "ipython3",
   "version": "3.10.6"
  }
 },
 "nbformat": 4,
 "nbformat_minor": 4
}
